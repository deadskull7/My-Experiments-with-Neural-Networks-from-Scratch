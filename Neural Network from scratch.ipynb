{
 "cells": [
  {
   "cell_type": "code",
   "execution_count": 1,
   "metadata": {
    "collapsed": true
   },
   "outputs": [],
   "source": [
    "import matplotlib.pyplot as plt\n",
    "import numpy as np"
   ]
  },
  {
   "cell_type": "code",
   "execution_count": 4,
   "metadata": {
    "collapsed": true
   },
   "outputs": [],
   "source": [
    "class Neural_Network():\n",
    "    \n",
    "    def __init__(self):        \n",
    "        self.ip_layer_size = 1                                                # Defining parameters\n",
    "        self.op_layer_size = 1\n",
    "        self.hidden_layer_size = 40\n",
    "        \n",
    "        self.W1 = np.random.randn(self.ip_layer_size , self.hidden_layer_size)\n",
    "        self.W2 = np.random.randn(self.hidden_layer_size , self.op_layer_size)\n",
    "        self.b1 = np.zeros((1 , self.hidden_layer_size))\n",
    "        self.b2 = np.zeros((1 , self.op_layer_size))\n",
    "        \n",
    "    def forward(self, X):\n",
    "        self.z2 = np.dot(X, self.W1) + self.b1\n",
    "        self.a2 = np.tanh(self.z2)                                         # Feed Forward \n",
    "        self.z3 = np.dot(self.a2, self.W2) + self.b2\n",
    "        yHat = self.z3 \n",
    "        return yHat\n",
    "        \n",
    "    def costFunction(self, X, y):\n",
    "        self.yHat = self.forward(X)                                        # y-self is the target value\n",
    "        J = 0.5*sum((y-self.yHat)**2)                                      # yHat is the output value of the neural network \n",
    "        return J\n",
    "    \n",
    "    def tanh_derivative(self, z): \n",
    "                                                                   #Compute derivative of tanh\n",
    "        return (1 - np.power(np.tanh(z), 2))    \n",
    "    \n",
    "    def costFunctionPrime(self, X, y):\n",
    "                                                         # Computing derivative with respect to W and W2 for a given X and y:\n",
    "        self.yHat = self.forward(X)\n",
    "        \n",
    "        delta3 = -(y-self.yHat)\n",
    "        dJdW2 = np.dot(self.a2.T, delta3)\n",
    "        dJdb2 = np.sum(delta3, axis=0)\n",
    "        delta2 = np.multiply(np.dot(delta3, self.W2.T), self.tanh_derivative(self.z2))\n",
    "        dJdW1 = np.dot(X.T, delta2) \n",
    "        dJdb1 = np.sum(delta2, axis=0)\n",
    "        \n",
    "        return dJdW1, dJdW2, dJdb1, dJdb2\n",
    "    \n",
    "    def train(self, learning_rate):\n",
    "                                                               # Training the neural network with desired learning rate\n",
    "        cost = []\n",
    "        for i in range(60000):                                  #  Here , 60000 is the number of epochs\n",
    "            dJdW1, dJdW2, dJdb1, dJdb2 = self.costFunctionPrime(X,y)\n",
    "            self.W1 = self.W1 - learning_rate*dJdW1\n",
    "            self.W2 = self.W2 - learning_rate*dJdW2             # Updating the new weights and biases after back-propagation\n",
    "            self.b1 = self.b1 - learning_rate*dJdb1\n",
    "            self.b2 = self.b2 - learning_rate*dJdb2\n",
    "            cost.append(self.costFunction(X,y))\n",
    "        return cost"
   ]
  },
  {
   "cell_type": "markdown",
   "metadata": {},
   "source": [
    "### Input values "
   ]
  },
  {
   "cell_type": "code",
   "execution_count": 6,
   "metadata": {
    "collapsed": true
   },
   "outputs": [],
   "source": [
    "X = np.array(([1], [2], [3], [4], [5], [6], [7]), dtype=float)\n",
    "y = np.array(([1.0], [3.0], [3.0], [4.0], [2.0], [1.0], [4.0]), dtype=float)"
   ]
  },
  {
   "cell_type": "code",
   "execution_count": 14,
   "metadata": {},
   "outputs": [
    {
     "name": "stdout",
     "output_type": "stream",
     "text": [
      "original output =  [[ 1.  3.  3.  4.  2.  1.  4.]]\n",
      "Predicted output =  [[ 0.99949965  2.99900979  2.99888573  3.99835951  1.99775207  0.99809107\n",
      "   3.99726197]]\n"
     ]
    }
   ],
   "source": [
    "NN = Neural_Network()\n",
    "cost1 = NN.costFunction(X,y)\n",
    "cost = NN.train(0.0025)                          # 0.002 as the learning rate\n",
    "\n",
    "print(\"original output = \", y.T)\n",
    "print(\"Predicted output = \", NN.forward(X).T[:])"
   ]
  },
  {
   "cell_type": "code",
   "execution_count": 15,
   "metadata": {},
   "outputs": [
    {
     "name": "stdout",
     "output_type": "stream",
     "text": [
      "error =  [  1.06788431e-05]\n"
     ]
    }
   ],
   "source": [
    "print(\"error = \", NN.costFunction(X,y))"
   ]
  },
  {
   "cell_type": "markdown",
   "metadata": {},
   "source": [
    "### Plotting decrease in cost with increase in epochs"
   ]
  },
  {
   "cell_type": "code",
   "execution_count": 19,
   "metadata": {},
   "outputs": [
    {
     "data": {
      "image/png": "[encoded data removed]",
      "text/plain": [
       "<matplotlib.figure.Figure at 0x1d7afa905c0>"
      ]
     },
     "metadata": {},
     "output_type": "display_data"
    }
   ],
   "source": [
    "plt.plot(cost , 'r' )\n",
    "plt.title('Learning Rate as 0.0025')\n",
    "plt.xlabel(\"Number of Epochs\")\n",
    "plt.ylabel(\"Cost\")\n",
    "plt.grid()\n",
    "plt.show()"
   ]
  },
  {
   "cell_type": "code",
   "execution_count": null,
   "metadata": {
    "collapsed": true
   },
   "outputs": [],
   "source": []
  }
 ],
 "metadata": {
  "kernelspec": {
   "display_name": "Python 3",
   "language": "python",
   "name": "python3"
  },
  "language_info": {
   "codemirror_mode": {
    "name": "ipython",
    "version": 3
   },
   "file_extension": ".py",
   "mimetype": "text/x-python",
   "name": "python",
   "nbconvert_exporter": "python",
   "pygments_lexer": "ipython3",
   "version": "3.6.3"
  }
 },
 "nbformat": 4,
 "nbformat_minor": 2
}
